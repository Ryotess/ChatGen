{
 "cells": [
  {
   "cell_type": "code",
   "execution_count": 1,
   "metadata": {},
   "outputs": [],
   "source": [
    "import pandas as pd\n",
    "input_data = pd.read_excel('./dataset/sample_dataset.xlsx')"
   ]
  },
  {
   "cell_type": "code",
   "execution_count": 2,
   "metadata": {},
   "outputs": [],
   "source": [
    "# function to create input data\n",
    "def create_input_data(data):\n",
    "    # data = data[data[\"RemoveQuestion\"] == 'X']\n",
    "    A = data.loc[data['Level'] == 'A', ['UID', 'Parent','Well-formed questions', 'Well-formed answers']].values\n",
    "    B = data.loc[data['Level'] == 'B', ['UID', 'Parent','Well-formed questions', 'Well-formed answers']].values\n",
    "    C = data.loc[data['Level'] == 'C', ['UID', 'Parent','Well-formed questions', 'Well-formed answers']].values\n",
    "    Z = data.loc[data['Level'] == 'Z', ['UID', 'Parent','Well-formed questions', 'Well-formed answers']].values\n",
    "    input_data = [A, B, C, Z]\n",
    "    return input_data"
   ]
  },
  {
   "cell_type": "code",
   "execution_count": 3,
   "metadata": {},
   "outputs": [],
   "source": [
    "input_data = create_input_data(input_data)"
   ]
  },
  {
   "cell_type": "code",
   "execution_count": 4,
   "metadata": {},
   "outputs": [],
   "source": [
    "# Generate Params setting\n",
    "params = {\n",
    "    'system_prompt':'You are a helpful artificial intelligent assistant, you can help user solve their problem.',\n",
    "    'generate_times': 1000,\n",
    "    'max_depth': 6,\n",
    "    'init_weight': 0.05,\n",
    "    'final_level_weight':0.000001,\n",
    "    'current_punish': 0.01,\n",
    "    'child_reward': 8000,\n",
    "    'final_weighting_threshold': 2,\n",
    "    'final_level_reward': 5000,\n",
    "}\n",
    "# output path for generated data\n",
    "output_path = \"./sample_output.json\""
   ]
  },
  {
   "cell_type": "code",
   "execution_count": 5,
   "metadata": {},
   "outputs": [
    {
     "name": "stderr",
     "output_type": "stream",
     "text": [
      "Generating Conversations: 100%|██████████| 1000/1000 [00:00<00:00, 4935.17it/s]"
     ]
    },
    {
     "name": "stdout",
     "output_type": "stream",
     "text": [
      "Levels reach total:  A: 0.299 | B: 0.43 | C: 0.14 | Z: 0.131\n"
     ]
    },
    {
     "name": "stderr",
     "output_type": "stream",
     "text": [
      "\n"
     ]
    }
   ],
   "source": [
    "from App.ChatGen import ChatAlog\n",
    "# Generate dataset\n",
    "ChatAlog(input_data=input_data).create_chat_history(**params).to_json(output_path)"
   ]
  },
  {
   "cell_type": "code",
   "execution_count": 6,
   "metadata": {},
   "outputs": [],
   "source": [
    "import random\n",
    "\n",
    "def sample_from_conversation(conversation):\n",
    "    sample = random.choice(conversation)\n",
    "    rounds = 1\n",
    "\n",
    "    print(f\"Instructions: {sample['instruction']}\", end=\"\\n---------\\n\")\n",
    "\n",
    "    for question, answer in sample['history']:\n",
    "        print(f\"Q: {question}\\nA: {answer}\")\n",
    "        rounds += 1\n",
    "    print(f\"Q: {sample['input']}\\nA: {sample['output']}\", end=\"\\n---------\\n\")\n",
    "\n",
    "    print('Total Rounds: ', rounds)"
   ]
  },
  {
   "cell_type": "code",
   "execution_count": 7,
   "metadata": {},
   "outputs": [],
   "source": [
    "import json\n",
    "# Load generated conversation\n",
    "with open(output_path) as f:\n",
    "    conversation = json.load(f)"
   ]
  },
  {
   "cell_type": "code",
   "execution_count": 8,
   "metadata": {},
   "outputs": [
    {
     "name": "stdout",
     "output_type": "stream",
     "text": [
      "Instructions: You are a helpful artificial intelligent assistant, you can help user solve their problem.\n",
      "---------\n",
      "Q: ehhh… I got some problem, can you help me?\n",
      "A: What happened? Please tell me the problem you encountered.\n",
      "Q: I just hurt my leg, do you know what can I do now?\n",
      "A: Are you ok? I think you need to go to the hostipal first.\n",
      "Q: I'm NOT OK now, I lives in Queens, tell me where should I go now plz.\n",
      "A: Here are some hospitals in Queens:\n",
      "1. Brooklyn Hospital\n",
      "2. Queens Memorial Hospital\n",
      "3. New York Hospital\n",
      "---------\n",
      "Total Rounds:  3\n"
     ]
    }
   ],
   "source": [
    "sample_from_conversation(conversation)"
   ]
  }
 ],
 "metadata": {
  "kernelspec": {
   "display_name": "QA7885",
   "language": "python",
   "name": "python3"
  },
  "language_info": {
   "codemirror_mode": {
    "name": "ipython",
    "version": 3
   },
   "file_extension": ".py",
   "mimetype": "text/x-python",
   "name": "python",
   "nbconvert_exporter": "python",
   "pygments_lexer": "ipython3",
   "version": "3.10.13"
  }
 },
 "nbformat": 4,
 "nbformat_minor": 2
}
